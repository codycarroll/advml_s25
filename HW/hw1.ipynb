{
 "cells": [
  {
   "cell_type": "markdown",
   "metadata": {},
   "source": [
    "### Name: \n",
    "\n",
    "### Github account:"
   ]
  },
  {
   "cell_type": "markdown",
   "metadata": {},
   "source": [
    "# HW 1"
   ]
  },
  {
   "cell_type": "markdown",
   "metadata": {},
   "source": [
    "# PCA and Eigenanalysis of Olympic Medal Counts over Time"
   ]
  },
  {
   "cell_type": "markdown",
   "metadata": {},
   "source": [
    "The file oly_medal_counts.csv contains the total number of Olympic medals won by each country in that year since 1896. In this HW we will study the trends in the medal counts over time and learn how to extract these trends as features or responses through principal components analysis.\n",
    "\n",
    "Each section will have a prompt to guide you through the analysis. Make sure that the code you write goes in the proper cell for that question. Specific grading criteria/points are also provided for each question."
   ]
  },
  {
   "cell_type": "markdown",
   "metadata": {},
   "source": [
    "## 0. Read in the Data"
   ]
  },
  {
   "cell_type": "markdown",
   "metadata": {},
   "source": [
    "Read in the data as a pandas dataframe, letting the row names be the country names and the column names be the year of the Olympic games. We will take each country as an individual observation, and take the row corresponding to the $i^{th}$ country as the data vector $x_i,~i=1,...,n$. \n",
    "\n",
    "Convert the medal counts to numeric. If there are any NA counts, replace them with 0s."
   ]
  },
  {
   "cell_type": "code",
   "execution_count": null,
   "metadata": {},
   "outputs": [],
   "source": []
  },
  {
   "cell_type": "markdown",
   "metadata": {},
   "source": [
    "## 1. EDA (10 pts)"
   ]
  },
  {
   "cell_type": "markdown",
   "metadata": {},
   "source": [
    "### a. Create a \"spaghetti plot\" of the medal counts over time. In other words, for each country, plot a trajectory with the year on the x-axis and the nation's medal count on the y-axis. (2pts)"
   ]
  },
  {
   "cell_type": "code",
   "execution_count": null,
   "metadata": {},
   "outputs": [],
   "source": []
  },
  {
   "cell_type": "markdown",
   "metadata": {},
   "source": [
    "### b. There is a noticeable shift in the trends starting at 1994. Describe the pattern that you see emerge **starting from 1994 onward**. (2pts)  "
   ]
  },
  {
   "cell_type": "code",
   "execution_count": null,
   "metadata": {},
   "outputs": [],
   "source": []
  },
  {
   "cell_type": "markdown",
   "metadata": {},
   "source": [
    "### c. Speculate as to why this change occurred (it may be helpful to do a bit of research on the history of the Olympics here). (1pt)"
   ]
  },
  {
   "cell_type": "code",
   "execution_count": null,
   "metadata": {},
   "outputs": [],
   "source": []
  },
  {
   "cell_type": "markdown",
   "metadata": {},
   "source": [
    "### d. Let's focus on the trend after 1994 and call this the \"recent\" era of the Olympics. Subset the data frame to contain years from 1994 onward (including 1994). (1pt)"
   ]
  },
  {
   "cell_type": "code",
   "execution_count": null,
   "metadata": {},
   "outputs": [],
   "source": []
  },
  {
   "cell_type": "markdown",
   "metadata": {},
   "source": [
    "### e. Calculate the total number of medals won for each year since 1994 and visualize them. (1pt)"
   ]
  },
  {
   "cell_type": "code",
   "execution_count": null,
   "metadata": {},
   "outputs": [],
   "source": []
  },
  {
   "cell_type": "markdown",
   "metadata": {},
   "source": [
    "### f. Are the total number medals won constant across years? Why or why not? (1pt)"
   ]
  },
  {
   "cell_type": "code",
   "execution_count": null,
   "metadata": {},
   "outputs": [],
   "source": []
  },
  {
   "cell_type": "markdown",
   "metadata": {},
   "source": [
    "### g. To make a fair comparison of country performance, it makes more sense for us to look at the fraction of medals won per year. Convert your raw medal counts to the relative percentage of medals won per year and visualize it with another spaghetti plot (2pts). "
   ]
  },
  {
   "cell_type": "code",
   "execution_count": null,
   "metadata": {},
   "outputs": [],
   "source": []
  },
  {
   "cell_type": "markdown",
   "metadata": {},
   "source": [
    "## 2.  PCA, Eigenanalysis, and Identifying Archetypes (35 pts)"
   ]
  },
  {
   "cell_type": "markdown",
   "metadata": {},
   "source": [
    "Let's fit a principal components analysis on the dataset, taking each country as the observational unit. "
   ]
  },
  {
   "cell_type": "markdown",
   "metadata": {},
   "source": [
    "### a. Create a scree plot from the PCA results. (2pts)"
   ]
  },
  {
   "cell_type": "code",
   "execution_count": null,
   "metadata": {},
   "outputs": [],
   "source": []
  },
  {
   "cell_type": "markdown",
   "metadata": {},
   "source": [
    "### b. Determine the number of principal components needed in order for the low rank approximation to recreate at least 90% of the variation present in the initial data. Call this number K. (2pts) "
   ]
  },
  {
   "cell_type": "code",
   "execution_count": null,
   "metadata": {},
   "outputs": [],
   "source": []
  },
  {
   "cell_type": "markdown",
   "metadata": {},
   "source": [
    "### c. For each of the following countries, calculate the rank K approximation:\n",
    "\n",
    "\n",
    "-United States\n",
    "\n",
    "-Norway \n",
    "\n",
    "-China\n",
    "\n",
    "-Canada\n",
    "\n",
    "-Cuba\n",
    "\n",
    "### (5pts total, 1 pt for each country)."
   ]
  },
  {
   "cell_type": "code",
   "execution_count": null,
   "metadata": {},
   "outputs": [],
   "source": []
  },
  {
   "cell_type": "markdown",
   "metadata": {},
   "source": [
    "### d. For those countries, plot the original data vs. the rank K approximation. (5 pts total, 1 pt per country)"
   ]
  },
  {
   "cell_type": "code",
   "execution_count": null,
   "metadata": {},
   "outputs": [],
   "source": []
  },
  {
   "cell_type": "markdown",
   "metadata": {},
   "source": [
    "### e. Visualize the first two principal component vectors. (2 pts, one per PC vector)"
   ]
  },
  {
   "cell_type": "code",
   "execution_count": null,
   "metadata": {},
   "outputs": [],
   "source": []
  },
  {
   "cell_type": "markdown",
   "metadata": {},
   "source": [
    "### f. How can we interpret the first and second principal component vectors? (4pt)"
   ]
  },
  {
   "cell_type": "code",
   "execution_count": null,
   "metadata": {},
   "outputs": [],
   "source": []
  },
  {
   "cell_type": "markdown",
   "metadata": {},
   "source": [
    "### g. If a country has a high/low PC1 score, what does that tell us about that country's historical performance at the summer and winter Olympics? What about a high/low PC2 score? (3pts)"
   ]
  },
  {
   "cell_type": "code",
   "execution_count": null,
   "metadata": {},
   "outputs": [],
   "source": []
  },
  {
   "cell_type": "markdown",
   "metadata": {},
   "source": [
    "### h. Compare the PC1 scores for China, Norway, Canada, Cuba, and the United States. Which of them has the highest PC1 score? The lowest? (2pts)\n",
    "\n",
    "### Which of them has the highest PC2 score? The lowest PC2 score?  Identify two archetypal countries which exemplify a high/low PC2 score and describe intuitively why these archetypes may make sense. (3pts) \n",
    "\n",
    "[Double check that this result aligns with your interpretation of the principal component vectors. ]"
   ]
  },
  {
   "cell_type": "code",
   "execution_count": null,
   "metadata": {},
   "outputs": [],
   "source": []
  },
  {
   "cell_type": "markdown",
   "metadata": {},
   "source": [
    "### i. Create a scatter plot of the principal component scores, with the first PC score on the x-axis and the second PC score on the y-axis. (2pts) Label the points with the name of their corresponding countries if the first PC score has an absolute value greater than 0.05 or the second PC score has a magnitude greater than 0.04. (2pts)"
   ]
  },
  {
   "cell_type": "code",
   "execution_count": null,
   "metadata": {},
   "outputs": [],
   "source": []
  },
  {
   "cell_type": "markdown",
   "metadata": {},
   "source": [
    "### j. The United States has a high PC1 score and a high PC2 score. Characterize the profile of the US according to these scores. (3pts)\n"
   ]
  },
  {
   "cell_type": "code",
   "execution_count": null,
   "metadata": {},
   "outputs": [],
   "source": []
  },
  {
   "cell_type": "markdown",
   "metadata": {},
   "source": [
    "## 3. Exploration (5pts)"
   ]
  },
  {
   "cell_type": "markdown",
   "metadata": {},
   "source": [
    "### You can answer the following 2 questions either by justifying your answers with theory or by carrying it out in code and interpreting your findings:"
   ]
  },
  {
   "cell_type": "markdown",
   "metadata": {},
   "source": [
    "### a. Suppose I created modified the principal component vector by flipping its sign: $\\phi^*_2 = - \\phi_2$. (This corresponds to a rotation of that principal component in the exact opposite direction it was facing.) What change will this have on second principal component scores? In other words, express the new PC scores $\\xi^*_{i2}$ in terms of the values of $\\xi_{i2}$ for $~ i =1,..., n$. (3pts)"
   ]
  },
  {
   "cell_type": "code",
   "execution_count": null,
   "metadata": {},
   "outputs": [],
   "source": []
  },
  {
   "cell_type": "markdown",
   "metadata": {},
   "source": [
    "### b. Does making this change alter the decay pattern shown in the scree plot? Why or why not? (2pt)"
   ]
  },
  {
   "cell_type": "code",
   "execution_count": null,
   "metadata": {},
   "outputs": [],
   "source": []
  },
  {
   "cell_type": "markdown",
   "metadata": {},
   "source": [
    "### Optional exercises to strengthen your understanding of PCA + visualization skills"
   ]
  },
  {
   "cell_type": "markdown",
   "metadata": {},
   "source": [
    "1. Many countries have 0s across the board. Maybe we should remove them as they're just zero-inflating our observations. Devise a data-driven way of setting a threshold to exclude countries with zero (or very low) medal counts from this analysis."
   ]
  },
  {
   "cell_type": "markdown",
   "metadata": {},
   "source": [
    "2. Repeat PCA on the subset of countries which were not removed. Do the patterns in your eigenvectors change? How about the fraction of variance explained by them? "
   ]
  },
  {
   "cell_type": "markdown",
   "metadata": {},
   "source": [
    "3. Find the total medal counts for 2018-2024 online. Add them to the data frame and rerun the analysis. What changes? What trends remains the same?"
   ]
  },
  {
   "cell_type": "markdown",
   "metadata": {},
   "source": [
    "4. Visualize the distribution of PC1 scores on a world map. Do the same for PC2 scores."
   ]
  }
 ],
 "metadata": {
  "kernelspec": {
   "display_name": "Python 3 (ipykernel)",
   "language": "python",
   "name": "python3"
  },
  "language_info": {
   "codemirror_mode": {
    "name": "ipython",
    "version": 3
   },
   "file_extension": ".py",
   "mimetype": "text/x-python",
   "name": "python",
   "nbconvert_exporter": "python",
   "pygments_lexer": "ipython3",
   "version": "3.12.7"
  },
  "varInspector": {
   "cols": {
    "lenName": 16,
    "lenType": 16,
    "lenVar": 40
   },
   "kernels_config": {
    "python": {
     "delete_cmd_postfix": "",
     "delete_cmd_prefix": "del ",
     "library": "var_list.py",
     "varRefreshCmd": "print(var_dic_list())"
    },
    "r": {
     "delete_cmd_postfix": ") ",
     "delete_cmd_prefix": "rm(",
     "library": "var_list.r",
     "varRefreshCmd": "cat(var_dic_list()) "
    }
   },
   "types_to_exclude": [
    "module",
    "function",
    "builtin_function_or_method",
    "instance",
    "_Feature"
   ],
   "window_display": false
  }
 },
 "nbformat": 4,
 "nbformat_minor": 4
}
